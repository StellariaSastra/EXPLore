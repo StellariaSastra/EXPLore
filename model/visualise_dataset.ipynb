{
 "cells": [
  {
   "cell_type": "code",
   "execution_count": 5,
   "id": "2095d7f0",
   "metadata": {},
   "outputs": [],
   "source": [
    "import pandas as pd"
   ]
  },
  {
   "cell_type": "code",
   "execution_count": 12,
   "id": "4fca5046",
   "metadata": {},
   "outputs": [
    {
     "data": {
      "text/html": [
       "<div>\n",
       "<style scoped>\n",
       "    .dataframe tbody tr th:only-of-type {\n",
       "        vertical-align: middle;\n",
       "    }\n",
       "\n",
       "    .dataframe tbody tr th {\n",
       "        vertical-align: top;\n",
       "    }\n",
       "\n",
       "    .dataframe thead th {\n",
       "        text-align: right;\n",
       "    }\n",
       "</style>\n",
       "<table border=\"1\" class=\"dataframe\">\n",
       "  <thead>\n",
       "    <tr style=\"text-align: right;\">\n",
       "      <th></th>\n",
       "      <th>loc_rowid</th>\n",
       "      <th>kepid</th>\n",
       "      <th>kepoi_name</th>\n",
       "      <th>koi_disposition</th>\n",
       "      <th>koi_pdisposition</th>\n",
       "    </tr>\n",
       "  </thead>\n",
       "  <tbody>\n",
       "    <tr>\n",
       "      <th>0</th>\n",
       "      <td>1</td>\n",
       "      <td>11446443</td>\n",
       "      <td>K00001.01</td>\n",
       "      <td>CONFIRMED</td>\n",
       "      <td>CANDIDATE</td>\n",
       "    </tr>\n",
       "    <tr>\n",
       "      <th>1</th>\n",
       "      <td>2</td>\n",
       "      <td>10666592</td>\n",
       "      <td>K00002.01</td>\n",
       "      <td>CONFIRMED</td>\n",
       "      <td>CANDIDATE</td>\n",
       "    </tr>\n",
       "    <tr>\n",
       "      <th>2</th>\n",
       "      <td>3</td>\n",
       "      <td>10748390</td>\n",
       "      <td>K00003.01</td>\n",
       "      <td>CONFIRMED</td>\n",
       "      <td>CANDIDATE</td>\n",
       "    </tr>\n",
       "    <tr>\n",
       "      <th>3</th>\n",
       "      <td>4</td>\n",
       "      <td>3861595</td>\n",
       "      <td>K00004.01</td>\n",
       "      <td>CONFIRMED</td>\n",
       "      <td>CANDIDATE</td>\n",
       "    </tr>\n",
       "    <tr>\n",
       "      <th>4</th>\n",
       "      <td>5</td>\n",
       "      <td>8554498</td>\n",
       "      <td>K00005.01</td>\n",
       "      <td>CANDIDATE</td>\n",
       "      <td>CANDIDATE</td>\n",
       "    </tr>\n",
       "  </tbody>\n",
       "</table>\n",
       "</div>"
      ],
      "text/plain": [
       "   loc_rowid     kepid kepoi_name koi_disposition koi_pdisposition\n",
       "0          1  11446443  K00001.01       CONFIRMED        CANDIDATE\n",
       "1          2  10666592  K00002.01       CONFIRMED        CANDIDATE\n",
       "2          3  10748390  K00003.01       CONFIRMED        CANDIDATE\n",
       "3          4   3861595  K00004.01       CONFIRMED        CANDIDATE\n",
       "4          5   8554498  K00005.01       CANDIDATE        CANDIDATE"
      ]
     },
     "execution_count": 12,
     "metadata": {},
     "output_type": "execute_result"
    }
   ],
   "source": [
    "df = pd.read_csv(\"dataset/kepler_koi_list.csv\")\n",
    "df.head()"
   ]
  },
  {
   "cell_type": "code",
   "execution_count": 16,
   "id": "5bebdd52",
   "metadata": {},
   "outputs": [
    {
     "name": "stdout",
     "output_type": "stream",
     "text": [
      "<class 'pandas.core.frame.DataFrame'>\n",
      "RangeIndex: 9564 entries, 0 to 9563\n",
      "Data columns (total 5 columns):\n",
      " #   Column            Non-Null Count  Dtype \n",
      "---  ------            --------------  ----- \n",
      " 0   loc_rowid         9564 non-null   int64 \n",
      " 1   kepid             9564 non-null   int64 \n",
      " 2   kepoi_name        9564 non-null   object\n",
      " 3   koi_disposition   9564 non-null   object\n",
      " 4   koi_pdisposition  9564 non-null   object\n",
      "dtypes: int64(2), object(3)\n",
      "memory usage: 373.7+ KB\n"
     ]
    }
   ],
   "source": [
    "df.info()"
   ]
  },
  {
   "cell_type": "code",
   "execution_count": 20,
   "id": "4c00d1cf",
   "metadata": {
    "scrolled": true
   },
   "outputs": [
    {
     "name": "stdout",
     "output_type": "stream",
     "text": [
      "Unique dispositions:   ['CONFIRMED' 'CANDIDATE' 'FALSE POSITIVE']\n",
      "Unique pdispositions:  ['CANDIDATE' 'FALSE POSITIVE']\n"
     ]
    }
   ],
   "source": [
    "print(\"Unique dispositions:  \", df.koi_disposition.unique())\n",
    "print(\"Unique pdispositions: \", df.koi_pdisposition.unique())"
   ]
  },
  {
   "cell_type": "code",
   "execution_count": 22,
   "id": "ce3a41b6",
   "metadata": {},
   "outputs": [
    {
     "name": "stdout",
     "output_type": "stream",
     "text": [
      "Number of CONFIRMED objects: 2363\n",
      "Number of CANDIDATE objects: 2361\n",
      "Number of FALSE POSITIVE objects: 4840\n",
      "Total number of objects : 9564\n"
     ]
    }
   ],
   "source": [
    "total = 0\n",
    "\n",
    "for disp in df.koi_disposition.unique():\n",
    "    total += len(df[df.koi_disposition == disp])\n",
    "    print(f\"Number of {disp} objects: {len(df[df.koi_disposition == disp])}\")\n",
    "\n",
    "print(f\"Total number of objects : {total}\")"
   ]
  },
  {
   "cell_type": "code",
   "execution_count": 23,
   "id": "9b6cfc86",
   "metadata": {},
   "outputs": [
    {
     "name": "stdout",
     "output_type": "stream",
     "text": [
      "Number of CANDIDATE objects: 4717\n",
      "Number of FALSE POSITIVE objects: 4847\n",
      "Total number of objects : 9564\n"
     ]
    }
   ],
   "source": [
    "total = 0\n",
    "\n",
    "for disp in df.koi_pdisposition.unique():\n",
    "    total += len(df[df.koi_pdisposition == disp])\n",
    "    print(f\"Number of {disp} objects: {len(df[df.koi_pdisposition == disp])}\")\n",
    "\n",
    "print(f\"Total number of objects : {total}\")"
   ]
  }
 ],
 "metadata": {
  "kernelspec": {
   "display_name": "Python 3",
   "language": "python",
   "name": "python3"
  },
  "language_info": {
   "codemirror_mode": {
    "name": "ipython",
    "version": 3
   },
   "file_extension": ".py",
   "mimetype": "text/x-python",
   "name": "python",
   "nbconvert_exporter": "python",
   "pygments_lexer": "ipython3",
   "version": "3.8.10"
  }
 },
 "nbformat": 4,
 "nbformat_minor": 5
}
